{
 "cells": [
  {
   "cell_type": "markdown",
   "metadata": {},
   "source": [
    "<div class=\"w3-bar w3-blue-grey w3-padding\">\n",
    "<div class=\"w3-bar-item\"><h2> SAMBa Training </h2></div>\n",
    "<div class=\"w3-bar-item w3-right\"><img class=\"w3-image w3-right\" style=\"width:40%;max-width:400px\" src=\"../images/SAMBa_white.png\"></div>\n",
    "</div>"
   ]
  },
  {
   "cell_type": "markdown",
   "metadata": {},
   "source": [
    "# Solving Poisson's Equation via Finite Difference\n",
    "<p>\n",
    "    In this worksheet you'll use MATLAB's matrix capabilities to solve the most common second-order elliptic PDE - Poisson's equation.\n",
    "</p>"
   ]
  },
  {
   "cell_type": "markdown",
   "metadata": {},
   "source": [
    "## Constructing the Finite Difference Matrix\n",
    "\n",
    "Let $\\Omega = [0,1]\\times[0,1]$ be the unit square domain, with boundary $\\partial\\Omega$. \n",
    "We will be using a Finite Difference method to obtain a numerial solution to Poisson's equation on $\\Omega$, subject to homogeneous Dirichlet boundary conditions:\n",
    "\n",
    "$$\n",
    "\\begin{align} \n",
    "    -\\nabla^{2}u(\\mathbf{x}) &= f(\\mathbf{x}) &\\quad \\mathbf{x}\\in\\Omega \\\\\n",
    "    u\\vert_{\\partial\\Omega} &= 0.\n",
    "\\end{align}\n",
    "$$\n",
    "\n",
    "The function $u$ is the solution that we seek and $f$ is a known source term.\n",
    "\n",
    "\n",
    "To begin the Finite Difference implimentation, we first need to choose a *mesh* for $\\Omega$, on which we will approximate the solution $u$.\n",
    "\n",
    "\n",
    "Taking $N\\in\\mathbb{N}$ we uniformly discretise in the $x$- and $y$- directions with $N$ interior points, so we obtain $N+2$ points in each direction:\n",
    "\n",
    "$$\n",
    "\\begin{align}\n",
    "x_{i} = \\frac{i}{N+1}, &\\quad y_{j} = \\frac{j}{N+1} &\\quad i,j\\in\\{0,...,N+1\\}\n",
    "\\end{align}\n",
    "$$\n",
    "\n",
    "and the set of all pairings $(x_{i}, y_{j})$ details the points on the mesh.\n",
    "\n",
    "\n",
    "It's also useful to introduce the mesh *diameter* or *parameter*, $h = \\frac{1}{N+1}$; as well as some convenient notation:\n",
    "\n",
    "$$\n",
    "\\begin{align}\n",
    "u_{i,j} := u\\left(x_{i},y_{j}\\right) \\text{ and } f_{i,j} := f\\left(x_{i},y_{j}\\right)\n",
    "\\end{align}\n",
    "$$\n",
    "\n",
    "\n",
    "Next we write down the difference equations to approximate the Laplacian in each direction:\n",
    "\n",
    "$$\n",
    "\\begin{align}\n",
    "    \\frac{\\partial^{2} u_{i,j}}{\\partial x^{2}} &\\approx \\frac{u_{i-1,j} -2u_{i,j} + u_{i-1,j} }{h^{2}} \\\\\n",
    "    \\frac{\\partial^{2} u_{i,j}}{\\partial y^{2}} &\\approx \\frac{u_{i,j-1} -2u_{i,j} + u_{i,j-1} }{h^{2}}\n",
    "\\end{align}\n",
    "$$\n",
    "\n",
    "and so our approximate system of equations, which approximate Poisson's equation on our mesh, is\n",
    "\n",
    "$$\n",
    "\\begin{align}\\label{eq:fd}\n",
    "    \\frac{1}{h^{2}}\\left(-u_{i-1,j} -u_{i,j-1} +4u_{i,j} -u_{i+1,j+1} -u_{i,j+1} \\right) &= f\\left(x_{i}, y_{j}\\right), &\\quad \\forall i,j\\in\\{1,...,N\\}.\n",
    "\\end{align}\n",
    "$$\n",
    "\n",
    "We only need to determine $u_{i,j}$ at interior mesh points; because of the homogeneous Dirichlet conditions we know that $u_{0,j} = u_{N+1,j} = u_{i,0} = u_{i,N+1} = 0$. Therefore the previous system of equations is a system of $N^{2}$ equations in $N^{2}$ unknowns, and we can represent the system in matrix form as\n",
    "\n",
    "$$\n",
    "\\begin{align}\n",
    "    M\\mathbf{U} = \\mathbf{F}.\n",
    "\\end{align}\n",
    "$$\n",
    "\n",
    "Here $\\mathbf{U}$ is a vector of the $u_{i,j}$,  $\\mathbf{F}$ is a vector of the $f_{i,j}$, and $M$ is the finite difference matrix\n",
    "\n",
    "$$\n",
    "    M = \\frac{1}{h^{2}}\\left(\\mathrm{tridiag}_{N}(-1,2,-1) \\otimes I_{N}\\right) +  \\left(I_{N} \\otimes\\mathrm{tridiag}_{N}(-1,2,-1)\\right)\n",
    "$$\n",
    "\n",
    "where $\\otimes$ denotes the Kronecker product and $\\mathrm{tridiag}_{N}(-1,2,-1)$ denotes the $N\\times N$ matrix with $2$ on the leading diagonal and $-1$ on the first super- and sub- diagonals.\n",
    "\n",
    "The elements of $\\mathbf{U}$ and $\\mathbf{F}$ are ordered in $x$ then $y$ - this ordering is automatically compatable with MATLAB's reshape command). That is, $\\mathbf{U} = \\left(u_{1,1}, u_{2,1}, ..., u_{N,1}, u_{1,2}, u_{2,2}, ... , u_{N-1,N}, u_{N,N} \\right)^{\\top}$, and the elements of $\\mathbf{F}$ are similar.\n",
    "\n",
    "Finding an approximation to the true solution $u$ then amounts to solving the linear system $M\\mathbf{U} = -\\mathbf{F}$ for $\\mathbf{U}$, which can be done with MATLAB's `\\` operator."
   ]
  },
  {
   "cell_type": "markdown",
   "metadata": {},
   "source": [
    "## Tasks\n",
    "\n",
    "Unless otherwise stated, perform all tasks in a single MATLAB script, in the order the tasks are presented. \n",
    "In what follows, variables with names formated `like this` refer to MATLAB variables and/or functions, whereas typeset variables $like \\mathrm{\\:} this$ refer to the mathematical variables above."
   ]
  },
  {
   "cell_type": "markdown",
   "metadata": {},
   "source": [
    "\n",
    "<div class=\"w3-panel w3-leftbar w3-border-yellow w3-pale-yellow w3-padding-small\">\n",
    "    <h3><i class=\"fa fa-pencil-square-o\"></i> 1: Constructing $M$\n",
    "</h3>\n",
    "    <p>Read in the file Data.mat - a .mat file containing the number of gridpoints $N$ as well as the arrays <code>x,y</code> containing the gridpoints $x_{i}, y_{j}$ in each axis.\n",
    "Additionally, <code>x</code> and <code>y</code> have been turned into a meshgrid (variables <code>X,Y</code>) for the interior points using <code>[X,Y]=meshgrid(x(2:end-1),y(2:end-1))</code>.</p>\n",
    "<p>Write a function <code>FDM(N)</code> which takes one input $N$, and returns the finite-difference matrix $M$ defined above. \n",
    "Your function should construct the matrix $M$ efficiently - IE should construct the matrix $\\mathrm{tridiag_{N}}(-1,2,-1)$ first, using the <code>diag</code> function, and then use the <code>kron</code> function to build $M$.</p>\n",
    "<p><a href=\"./03_matlab-ws-soln.ipynb#-1%3A-Constructing-$M$%0A\">Solution</a></p>\n",
    "\n",
    "</div>\n"
   ]
  },
  {
   "cell_type": "markdown",
   "metadata": {},
   "source": [
    "\n",
    "<div class=\"w3-panel w3-leftbar w3-border-yellow w3-pale-yellow w3-padding-small\">\n",
    "    <h3><i class=\"fa fa-pencil-square-o\"></i> 2: Testing Construction\n",
    "</h3>\n",
    "    <p>Test that <code>FDM</code> works by:</p>\n",
    "<ul>\n",
    "<li>Extracting the lower and upper parts of the returned matrix, and checking that they are each other's transpose. This process should use <code>tril</code> and <code>triu</code>. If you want to perform a logic test, the MATLAB command <code>all</code> may be useful.</li>\n",
    "<li><p>Sum the rows of $M$, reshape the resulting column vector to a $N\\times N$ matrix. View the result in the variable viewer or using <code>imagesc</code>. This should tell you how many edges of the domain contain each node (up to a normalising factor). Does the result you obtain agree with this interpretation?</p>\n",
    "<p><a href=\"./03_matlab-ws-soln.ipynb#-2%3A-Testing-Construction%0A\">Solution</a></p>\n",
    "</li>\n",
    "</ul>\n",
    "\n",
    "</div>\n"
   ]
  },
  {
   "cell_type": "markdown",
   "metadata": {},
   "source": [
    "## Solving the Poisson Equation\n",
    "\n",
    "We are interested in the Poisson equation with source term \n",
    "$$\n",
    "\\begin{align}\n",
    "    f(x,y) &= -4\\pi\\sin(2\\pi x)(\\pi(1+(2y-1)^2)\\cos(2\\pi(y-0.5)^2)+\\sin(2\\pi(y-0.5)^2))\n",
    "\\end{align}\n",
    "$$\n",
    "which results in the analytic solution\n",
    "$$\n",
    "\\begin{align}\n",
    "    u(x,y) &= \\sin(2\\pi x)\\cos(2\\pi(y-0.5)^2).\n",
    "\\end{align}\n",
    "$$"
   ]
  },
  {
   "cell_type": "markdown",
   "metadata": {},
   "source": [
    "\n",
    "<div class=\"w3-panel w3-leftbar w3-border-yellow w3-pale-yellow w3-padding-small\">\n",
    "    <h3><i class=\"fa fa-pencil-square-o\"></i> 3: Source and Analytic Functions\n",
    "</h3>\n",
    "    <p>Write a function called <code>F(z)</code> which, for any $n\\in\\mathbb{N}$, takes in a $n\\times 2$ vector <code>z</code>, where each row is a co-ordinate pair, and returns the source term $f$ evaluated at each of the co-ordinate pairs as an $n\\times 1$ column vector.</p>\n",
    "<p>Write an analogous function <code>Analytic(z)</code> which evaluates the exact solution (defined above) and returns the result in the same way.</p>\n",
    "<p><a href=\"./03_matlab-ws-soln.ipynb#-3%3A-Source-and-Analytic-Functions%0A\">Solution</a></p>\n",
    "\n",
    "</div>\n"
   ]
  },
  {
   "cell_type": "markdown",
   "metadata": {},
   "source": [
    "\n",
    "<div class=\"w3-panel w3-leftbar w3-border-yellow w3-pale-yellow w3-padding-small\">\n",
    "    <h3><i class=\"fa fa-pencil-square-o\"></i> 4: Solving the System\n",
    "</h3>\n",
    "    <p>In your script, evaluate <code>F</code> and <code>Analytic</code> at each of the meshpoints $x_{i,j}$, placing the result into vectors called <code>source</code> (for the output of <code>F</code>) and <code>uExact</code> (<code>Analytic</code>).</p>\n",
    "<p>You now have everything you need to solve the matrix problem - compute the solution to $M\\mathbf{U}=-\\mathbf{F}$ and store it in a vector <code>uApprox</code>.\n",
    "Then:</p>\n",
    "<ul>\n",
    "<li>Create a surface plot of the solution - to do this you will need to reshape the solution vector <code>uApprox</code> into an $N\\times N$ matrix (use of the <code>reshape</code> command should be sufficient). For ease later, create a variable <code>uApproxReshape</code> to store the reshaped matrix, or simply call <code>reshape</code> inside the call to <code>surf</code>.</li>\n",
    "<li>Print the error $||$ <code>uApprox</code> - <code>uExact</code> $||_{2}$ to the screen, where $||\\cdot||_{2}$ is the vector 2-norm, to 7 decimal places and in scientific format.</li>\n",
    "</ul>\n",
    "<p><strong>TIP</strong>: Note that <code>uApprox</code> is only finding the solution on the interior of $\\Omega$ - so don't expect the surface plot to be $0$ at the edges!</p>\n",
    "<p><a href=\"./03_matlab-ws-soln.ipynb#-4%3A-Solving-the-System%0A\">Solution</a></p>\n",
    "\n",
    "</div>\n"
   ]
  },
  {
   "cell_type": "markdown",
   "metadata": {},
   "source": [
    "\n",
    "<div class=\"w3-panel w3-leftbar w3-border-yellow w3-pale-yellow w3-padding-small\">\n",
    "    <h3><i class=\"fa fa-pencil-square-o\"></i> 5: Error Analysis\n",
    "</h3>\n",
    "    <p>Edit your script so that rather than reading in a value of $N$ from a file, the problem instead loops over each value of $N$ in the range $\\{5,10,25,50,100\\}$, performing the steps outlined in task 4.\n",
    "Note that for each value of $N$ you will need to construct the arrays <code>x</code>, <code>y</code>, <code>X</code>, and <code>Y</code> manually, using <code>linspace</code> and <code>meshgrid</code>.</p>\n",
    "<p>Your script should display each approximate solution in a new figure window, rather than overwriting the previous plot.\n",
    "The script should also <code>pause</code> after each surface plot is generated, to allow the user to examine the plot.\n",
    "Additionally, your script should also store the error associated with each value of $N$ in a (<strong>preallocated</strong>) column vector <code>errVec</code>.</p>\n",
    "<p>Upon completion of the loop, your script should create semilog plot of the mesh diameter $h$ (which is derived from $N$) against the error in the solution for that particular mesh.\n",
    "Does what you see coincide with what you expect?</p>\n",
    "<p><strong>WARNING</strong>: The $N=100$ case may take a long while to run.</p>\n",
    "<p><strong>TIP</strong>: The MATLAB command <code>close all</code> can be used to close all currently open figure windows, if you are debugging and want to clear the screen.</p>\n",
    "<p><a href=\"./03_matlab-ws-soln.ipynb#-5%3A-Error-Analysis%0A\">Solution</a></p>\n",
    "\n",
    "</div>\n"
   ]
  },
  {
   "cell_type": "markdown",
   "metadata": {},
   "source": [
    "<div class=\"w3-bar w3-blue-grey\">\n",
    "<a href=\"./02_python-ws.ipynb\" class=\"w3-bar-item w3-button\"><h2><i class=\"fa fa-angle-double-left\"></i> Previous</h2></a>\n",
    "<a href=\"./00_schedule.ipynb\" class=\"w3-bar-item w3-button w3-center\" style=\"width:60%\"><h2>Schedule</h2></a>\n",
    "<a href=\"./04_R-ws.ipynb\" class=\"w3-bar-item w3-button w3-right\"><h2>Next <i class=\"fa fa-angle-double-right\"></i></h2></a>\n",
    "</div>"
   ]
  }
 ],
 "metadata": {
  "kernelspec": {
   "display_name": "Python 3",
   "language": "python",
   "name": "python3"
  },
  "language_info": {
   "codemirror_mode": {
    "name": "ipython",
    "version": 3
   },
   "file_extension": ".py",
   "mimetype": "text/x-python",
   "name": "python",
   "nbconvert_exporter": "python",
   "pygments_lexer": "ipython3",
   "version": "3.7.0"
  }
 },
 "nbformat": 4,
 "nbformat_minor": 2
}
