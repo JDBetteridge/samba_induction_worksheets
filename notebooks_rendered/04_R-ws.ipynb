{
 "cells": [
  {
   "cell_type": "markdown",
   "metadata": {},
   "source": [
    "<div class=\"w3-bar w3-blue-grey w3-padding\">\n",
    "<div class=\"w3-bar-item\"><h2> SAMBa Training </h2></div>\n",
    "<div class=\"w3-bar-item w3-right\"><img class=\"w3-image w3-right\" style=\"width:40%;max-width:400px\" src=\"../images/SAMBa_white.png\"></div>\n",
    "</div>"
   ]
  },
  {
   "cell_type": "markdown",
   "metadata": {},
   "source": [
    "\n",
    "<div class=\"w3-panel w3-leftbar w3-border-yellow w3-pale-yellow w3-padding-small\">\n",
    "    <h3><i class=\"fa fa-pencil-square-o\"></i> 1\n",
    "</h3>\n",
    "    <p>The Central Limit Theorem states that the sum $Z = X_1 +...+ X_n$ of $n$ independent identically distributed (iid) random variables is approximately normally distributed for large $n$. In fact, if $X_1,... X_n$ have mean $\\mu$ and variance $\\sigma^2$, then the standardised sum $Z_s=((X_1-\\mu) + ... + (X_n-\\mu))/(\\sqrt{n\\sigma^2})$  has a standard normal distribution $N(0,1)$ for large $n$. Let us illustrate this result in the case where $X_i$ follows the uniform distribution on the interval [-1,1].</p>\n",
    "<p>Generate a random sample $x$ of $n = 500$ independent draws from the uniform distribution on the interval [-1,1].\n",
    "Plot the result in a histogram.</p>\n",
    "<p><a href=\"./04_R-ws-soln.ipynb#-1%0A\">Solution</a></p>\n",
    "\n",
    "</div>\n"
   ]
  },
  {
   "cell_type": "code",
   "execution_count": null,
   "metadata": {},
   "outputs": [],
   "source": []
  },
  {
   "cell_type": "markdown",
   "metadata": {},
   "source": [
    "Write a function `func` that takes n as input, generates a random sample $x$ of $n$ independent draws from the uniform distribution on the interval [-1,1] and returns the sum of these draws."
   ]
  },
  {
   "cell_type": "code",
   "execution_count": null,
   "metadata": {},
   "outputs": [],
   "source": []
  },
  {
   "cell_type": "markdown",
   "metadata": {},
   "source": [
    "Use this function to generate $N = 1000$ such sums for n = 500, that is, generate a sample of size $N = 1000$ \n",
    "for the variable $Z$. Plot a histogram of the result. Use `qqnorm` to check that the sums follow a normal distribution."
   ]
  },
  {
   "cell_type": "code",
   "execution_count": null,
   "metadata": {},
   "outputs": [],
   "source": []
  },
  {
   "cell_type": "markdown",
   "metadata": {},
   "source": [
    "Now adjust the function `func` so that it returns a list containing the sample variance as well as the sum for each sample $x$."
   ]
  },
  {
   "cell_type": "code",
   "execution_count": null,
   "metadata": {},
   "outputs": [],
   "source": []
  },
  {
   "cell_type": "markdown",
   "metadata": {},
   "source": [
    "Use the adjusted function to generate a sample of size $N = 1000$ for the standardised sum $Z_s$. Note that the mean $\\mu$ for the distribution of $X_i$ is $0$ and the variance $\\sigma^2$ can be approximated by the sample variance for each $x$. Use a histogram of the result and `qqnorm` as before to check that the standardised sum $Z_s$ follows a standard normal distribution."
   ]
  },
  {
   "cell_type": "code",
   "execution_count": null,
   "metadata": {},
   "outputs": [],
   "source": []
  },
  {
   "cell_type": "markdown",
   "metadata": {},
   "source": [
    "\n",
    "<div class=\"w3-panel w3-leftbar w3-border-yellow w3-pale-yellow w3-padding-small\">\n",
    "    <h3><i class=\"fa fa-pencil-square-o\"></i> 2\n",
    "</h3>\n",
    "    <p>Data in <code>R</code> are often held in data frames. \n",
    "A data frame is a table in which each column is a vector containing the values of one variable. \n",
    "The variables can be of either numeric, factor or character type.</p>\n",
    "<p><a href=\"./04_R-ws-soln.ipynb#-2%0A\">Solution</a></p>\n",
    "\n",
    "</div>\n"
   ]
  },
  {
   "cell_type": "markdown",
   "metadata": {},
   "source": [
    "One of the built in datasets in R is called `trees`. Use the command `dat <- trees` to create a new data \n",
    "frame with this data."
   ]
  },
  {
   "cell_type": "code",
   "execution_count": null,
   "metadata": {},
   "outputs": [],
   "source": []
  },
  {
   "cell_type": "markdown",
   "metadata": {},
   "source": [
    "Have a look at the data using, for example, `summary(dat)` and `pairs(dat)`."
   ]
  },
  {
   "cell_type": "code",
   "execution_count": null,
   "metadata": {},
   "outputs": [],
   "source": []
  },
  {
   "cell_type": "markdown",
   "metadata": {},
   "source": [
    "Fit a simple linear model with response variable `Volume` and predictor variable `Girth`, storing the results as an object `mod`."
   ]
  },
  {
   "cell_type": "code",
   "execution_count": null,
   "metadata": {},
   "outputs": [],
   "source": []
  },
  {
   "cell_type": "markdown",
   "metadata": {},
   "source": [
    "Use `plot(mod)` and `summary(mod)` to assess the goodness of fit of the model. Does `Girth` predict `Volume` well?"
   ]
  },
  {
   "cell_type": "code",
   "execution_count": null,
   "metadata": {},
   "outputs": [],
   "source": []
  },
  {
   "cell_type": "markdown",
   "metadata": {},
   "source": [
    "From the formula for the volume of a cylinder, we may expect the variable `Girth`$^2$ to be a better predictor for `Volume`. Add this variable as a new column `Girth2` to the data frame dat."
   ]
  },
  {
   "cell_type": "code",
   "execution_count": null,
   "metadata": {},
   "outputs": [],
   "source": []
  },
  {
   "cell_type": "markdown",
   "metadata": {},
   "source": [
    "Fit a linear model as before but with `Girth` replaced by `Girth2`. Did this improve the model?"
   ]
  },
  {
   "cell_type": "code",
   "execution_count": null,
   "metadata": {},
   "outputs": [],
   "source": []
  },
  {
   "cell_type": "markdown",
   "metadata": {},
   "source": [
    "<div class=\"w3-bar w3-blue-grey\">\n",
    "<a href=\"./03_matlab-ws.ipynb\" class=\"w3-bar-item w3-button\"><h2><i class=\"fa fa-angle-double-left\"></i> Previous</h2></a>\n",
    "<a href=\"./00_schedule.ipynb\" class=\"w3-bar-item w3-button w3-center\" style=\"width:60%\"><h2>Schedule</h2></a>\n",
    "<a href=\"./00_schedule.ipynb\" class=\"w3-bar-item w3-button w3-right\"><h2>Next <i class=\"fa fa-angle-double-right\"></i></h2></a>\n",
    "</div>"
   ]
  }
 ],
 "metadata": {
  "kernelspec": {
   "display_name": "R",
   "language": "R",
   "name": "ir"
  },
  "language_info": {
   "codemirror_mode": "r",
   "file_extension": ".r",
   "mimetype": "text/x-r-source",
   "name": "R",
   "pygments_lexer": "r",
   "version": "3.4.3"
  }
 },
 "nbformat": 4,
 "nbformat_minor": 2
}
