{
 "cells": [
  {
   "cell_type": "markdown",
   "metadata": {},
   "source": [
    "<div class=\"w3-bar w3-blue-grey w3-padding\">\n",
    "<div class=\"w3-bar-item\"><h2> SAMBa Training </h2></div>\n",
    "<div class=\"w3-bar-item w3-right\"><img class=\"w3-image w3-right\" style=\"width:40%;max-width:400px\" src=\"../images/SAMBa_white.png\"></div>\n",
    "</div>"
   ]
  },
  {
   "cell_type": "markdown",
   "metadata": {
    "slideshow": {
     "slide_type": "slide"
    }
   },
   "source": [
    "# SAMBa Worksheets\n",
    "\n",
    "Please complete these worksheets before the Friday of induction week."
   ]
  },
  {
   "cell_type": "markdown",
   "metadata": {
    "slideshow": {
     "slide_type": "subslide"
    }
   },
   "source": [
    "\n",
    "<div class=\"w3-panel w3-leftbar w3-border-green w3-pale-green w3-padding-small\">\n",
    "    <h3><i class=\"fa fa-star\"></i> Prerequisites\n",
    "</h3>\n",
    "    <p>Your undergraduate training.</p>\n",
    "\n",
    "</div>\n"
   ]
  },
  {
   "cell_type": "markdown",
   "metadata": {
    "slideshow": {
     "slide_type": "slide"
    }
   },
   "source": [
    "<h2 id=\"Schedule\">Schedule<a class=\"anchor-link\" href=\"#Schedule\">&#182;</a></h2><p>Approximate time to spend on each of the exercises:</p>\n",
    "<table class=\"w3-table w3-striped w3-hoverable\">\n",
    "<thead class=\"w3-black\"><tr>\n",
    "<th>Time (hrs)</th>\n",
    "<th>Episode</th>\n",
    "<th>Description</th>\n",
    "</tr>\n",
    "</thead>\n",
    "<tbody>\n",
    "<tr>\n",
    "<td>&lt;1:00</td>\n",
    "<td><a href=\"./01_latex-ws.ipynb\">LaTeX</a></td>\n",
    "<td>Quick LaTeX document to produce</td>\n",
    "</tr>\n",
    "<tr>\n",
    "<td>1:00</td>\n",
    "<td><a href=\"./02_python-ws.ipynb\">Python</a></td>\n",
    "<td>Image processing in Python</td>\n",
    "</tr>\n",
    "<tr>\n",
    "<td>1:00</td>\n",
    "<td><a href=\"./03_matlab-ws.ipynb\">MATLAB</a></td>\n",
    "<td>Finite differences in MATLAB</td>\n",
    "</tr>\n",
    "<tr>\n",
    "<td>&lt;1:00</td>\n",
    "<td><a href=\"./04_R-ws.ipynb\">R</a></td>\n",
    "<td>Statistics in R</td>\n",
    "</tr>\n",
    "</tbody>\n",
    "</table>\n"
   ]
  },
  {
   "cell_type": "markdown",
   "metadata": {
    "slideshow": {
     "slide_type": "subslide"
    }
   },
   "source": [
    "Try and complete as much as you can. The timings are approximate, but if you are having trouble completing any of these in the time suggested, consider attending some of the introductory training, rather than struggling through."
   ]
  },
  {
   "cell_type": "markdown",
   "metadata": {},
   "source": [
    "## Setup\n",
    "\n",
    "You will need access to the programming languages for each course. They are worth having as they will be used in the subsequent courses. A guide for using/installing all the software cannot be provided here, but some helpful hints are given below.\n",
    "\n",
    "The jupyter notebooks are available [here](../notebooks_rendered), and pdfs of the worksheets are available [here](../pdf)."
   ]
  },
  {
   "cell_type": "markdown",
   "metadata": {},
   "source": [
    "\n",
    "<div class=\"w3-panel w3-leftbar w3-border-blue w3-pale-blue w3-padding-small\">\n",
    "    <h3><i class=\"fa fa-info-circle\"></i> LaTeX\n",
    "</h3>\n",
    "    <p>To install LaTeX on your own machine follow the guide <a href=\"https://www.latex-project.org/get/\">here</a>.</p>\n",
    "<p>If you can't install on your own machine for whatever reason you can use <a href=\"https://www.overleaf.com/\">Overleaf</a>, which is an online tool for producing LaTeX documents.</p>\n",
    "\n",
    "</div>\n"
   ]
  },
  {
   "cell_type": "markdown",
   "metadata": {},
   "source": [
    "\n",
    "<div class=\"w3-panel w3-leftbar w3-border-blue w3-pale-blue w3-padding-small\">\n",
    "    <h3><i class=\"fa fa-info-circle\"></i> Python\n",
    "</h3>\n",
    "    <p>To install Python on you own machine follow the guide <a href=\"https://www.python.org/downloads/\">here</a>, although you may wish to use <a href=\"https://www.anaconda.com/download/\">Anaconda</a>. Be sure to get <strong>Python 3</strong>, which is not backwards compatible! Some projects are still using the older Python 2, it is recommended to use Python 3 as support will soon be dropped for Python 2.</p>\n",
    "<p>If you can't install on your own machine for whatever reason, you can try uszing a <a href=\"https://notebooks.azure.com/\">Microsoft Azure notebook</a>, which is accessible if your institution uses Microsoft's system and has enabled Azure. Once loaded start a new Python 3 notebook.</p>\n",
    "\n",
    "</div>\n"
   ]
  },
  {
   "cell_type": "markdown",
   "metadata": {},
   "source": [
    "\n",
    "<div class=\"w3-panel w3-leftbar w3-border-blue w3-pale-blue w3-padding-small\">\n",
    "    <h3><i class=\"fa fa-info-circle\"></i> MATLAB\n",
    "</h3>\n",
    "    <p>MATLAB is commercial software, and although the university has a site licence, it is not possile to distribute a copy before the start of the course. If you have access to MATLAB on your own machine, use this. If not <a href=\"https://www.gnu.org/software/octave/\">Octave</a> promises to be a free alternative, and you should be able to complete the exercises, using that.</p>\n",
    "\n",
    "</div>\n"
   ]
  },
  {
   "cell_type": "markdown",
   "metadata": {},
   "source": [
    "\n",
    "<div class=\"w3-panel w3-leftbar w3-border-blue w3-pale-blue w3-padding-small\">\n",
    "    <h3><i class=\"fa fa-info-circle\"></i> R\n",
    "</h3>\n",
    "    <p>To install R on your own machine follow the guide <a href=\"https://www.r-project.org/\">here</a>. You may find it more useful to use the <a href=\"https://www.rstudio.com/products/rstudio/download/#download\">R-studio</a> environment, which is free commercial software.</p>\n",
    "<p>If you can't install on your own machine for whatever reason, you can try uszing a <a href=\"https://notebooks.azure.com/\">Microsoft Azure notebook</a>, which is accessible if your institution uses Microsoft's system and has enabled Azure. Once loaded start a new R notebook.</p>\n",
    "\n",
    "</div>\n"
   ]
  }
 ],
 "metadata": {
  "kernelspec": {
   "display_name": "Python 3",
   "language": "python",
   "name": "python3"
  },
  "language_info": {
   "codemirror_mode": {
    "name": "ipython",
    "version": 3
   },
   "file_extension": ".py",
   "mimetype": "text/x-python",
   "name": "python",
   "nbconvert_exporter": "python",
   "pygments_lexer": "ipython3",
   "version": "3.7.0"
  }
 },
 "nbformat": 4,
 "nbformat_minor": 2
}
